{
 "cells": [
  {
   "cell_type": "markdown",
   "metadata": {},
   "source": [
    "Laser focusing parameter for SPDC\n",
    "\n",
    "$\\xi = \\frac{\\ell}{\\Z_R}$  \n",
    "\n",
    "$\\ell$ is crystal length,\n",
    "$\\Z_R$ is Rayleigh Range\n",
    "\n",
    "$\\Z_R=\\frac{\\pi*w^2}{\\lambda}$\n",
    "\n",
    "w is Beam waist,\n",
    "$\\lambda$ is wavelength \n",
    "\n",
    "$w=\\frac{2*M^2*\\lambda*f}{\\pi*D}$\n",
    "\n",
    "f is focal length,\n",
    "D is beam diameter"
   ]
  },
  {
   "cell_type": "markdown",
   "metadata": {},
   "source": []
  },
  {
   "cell_type": "code",
   "execution_count": null,
   "metadata": {},
   "outputs": [],
   "source": [
    "import numpy as np \n",
    "\n",
    "\n",
    "l = 30*10^(-3)\n",
    "lamda = 405*10^(-9)\n",
    "M_power2 = 1.1\n",
    "f= 200*10^(-3) \n",
    "D= 6*10^(-3) \n",
    "\n",
    "\n",
    "\n",
    "\n",
    "\n",
    "w = (2*M_power2*lamda*f)/(np.pi*D)\n",
    "\n",
    "Z_R=(np.pi*w^2)/lamda\n",
    "\n",
    "xi=(l)/(Z_R)"
   ]
  }
 ],
 "metadata": {
  "language_info": {
   "name": "python"
  }
 },
 "nbformat": 4,
 "nbformat_minor": 2
}
